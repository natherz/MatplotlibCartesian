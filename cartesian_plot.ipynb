{
 "cells": [
  {
   "cell_type": "markdown",
   "metadata": {},
   "source": [
    "# Cartesian Graphs With Matplotlib\n",
    "\n",
    "Sometimes it is useful to display plots with the axes centered around the origin. While this is doable in Matplotlib, there are no helper functions or methods that I know of to simplify things. Here's an attempt to make life easier in these situations by providign a function that helps format plots on a graph centered at the origin."
   ]
  },
  {
   "cell_type": "code",
   "execution_count": 1,
   "metadata": {
    "collapsed": true,
    "deletable": true,
    "editable": true
   },
   "outputs": [],
   "source": [
    "%matplotlib inline"
   ]
  },
  {
   "cell_type": "code",
   "execution_count": 2,
   "metadata": {
    "collapsed": true
   },
   "outputs": [],
   "source": [
    "import matplotlib.pyplot as plt\n",
    "import numpy as np\n",
    "\n",
    "# displaying a cartesian plane centered about the origin\n",
    "# for gridlines, see http://www.scipy-lectures.org/intro/matplotlib/auto_examples/plot_grid_ex.html\n",
    "# for spine placement, see http://matplotlib.org/examples/pylab_examples/spine_placement_demo.html\n",
    "# for an opinion on function arguments, see http://docs.python-guide.org/en/latest/writing/style/#function-arguments\n",
    "\n",
    "def format_func(value, tick_number):\n",
    "    # code adapted from:\n",
    "    # https://github.com/jakevdp/PythonDataScienceHandbook/blob/master/notebooks/04.10-Customizing-Ticks.ipynb\n",
    "    # find number of multiples of pi/2\n",
    "    N = int(np.round(2 * value / np.pi))\n",
    "    if N == 0:\n",
    "        return \"0\"\n",
    "    elif N == 1:\n",
    "        return r\"$\\pi/2$\"\n",
    "    elif N == -1:\n",
    "        return r\"$-\\pi/2$\"\n",
    "    elif N == 2:\n",
    "        return r\"$\\pi$\"\n",
    "    elif N == -2:\n",
    "        return r\"$-\\pi$\"\n",
    "    elif N % 2 > 0:\n",
    "        return r\"${0}\\pi/2$\".format(N)\n",
    "    else:\n",
    "        return r\"${0}\\pi$\".format(N // 2)\n",
    "\n",
    "def cartesian_plot(xlim=(-1, 1), ylim=(-1, 1), pimarks=False):\n",
    "    \"\"\"Create a plot centered at the origin\n",
    "    \n",
    "    Parameters\n",
    "    ----------\n",
    "    xlim : tuple of minimum and maximum x-axis bounds\n",
    "    ylim : tuple of minimum and maximum y-axis bounds\n",
    "    pimarks : boolean. If True, display pi values on x-axis\n",
    "    \n",
    "    Returns\n",
    "    -------\n",
    "    ax : matplotlib axis object\n",
    "    \"\"\"\n",
    "    ax = plt.axes([0, 0, 1, 1])\n",
    "    ax.set_aspect(1/1)\n",
    "    ax.set_xlim(xlim[0], xlim[1])\n",
    "    ax.set_ylim(ylim[0], ylim[1])\n",
    "    \n",
    "    xmajor_mult = ymajor_mult = 1\n",
    "    xminor_mult = yminor_mult = 0.5\n",
    "    xdiff = xlim[1] - xlim[0]\n",
    "    ydiff = ylim[1] - ylim[0]\n",
    "    if (pimarks):\n",
    "        ax.xaxis.set_major_locator(plt.MultipleLocator(np.pi / 2))\n",
    "        ax.xaxis.set_minor_locator(plt.MultipleLocator(np.pi / 4))\n",
    "        \n",
    "\n",
    "        ax.xaxis.set_major_formatter(plt.FuncFormatter(format_func))\n",
    "    elif (xdiff <= 10):\n",
    "        ax.xaxis.set_major_locator(plt.MultipleLocator(xmajor_mult))\n",
    "        ax.xaxis.set_minor_locator(plt.MultipleLocator(xminor_mult))\n",
    "    else :\n",
    "        xmajor_mult = round(xdiff/10)\n",
    "        ax.xaxis.set_major_locator(plt.MultipleLocator(xmajor_mult))\n",
    "    if (ydiff <= 10):\n",
    "        ax.yaxis.set_major_locator(plt.MultipleLocator(ymajor_mult))\n",
    "        ax.yaxis.set_minor_locator(plt.MultipleLocator(yminor_mult))\n",
    "    else :\n",
    "        ymajor_mult = round(ydiff/10)\n",
    "        ax.yaxis.set_major_locator(plt.MultipleLocator(ymajor_mult))\n",
    "    ax.grid(which='major', axis='x', linewidth=0.75, linestyle='-', color='0.75')\n",
    "    ax.grid(which='minor', axis='x', linewidth=0.25, linestyle='-', color='0.75')\n",
    "    ax.grid(which='major', axis='y', linewidth=0.75, linestyle='-', color='0.75')\n",
    "    ax.grid(which='minor', axis='y', linewidth=0.25, linestyle='-', color='0.75')\n",
    "    ax.spines['left'].set_position('zero')\n",
    "    ax.spines['right'].set_color('none')\n",
    "    ax.spines['bottom'].set_position('zero')\n",
    "    ax.spines['top'].set_color('none')\n",
    "    # ax.spines['left'].set_smart_bounds(True)\n",
    "    # ax.spines['bottom'].set_smart_bounds(True)\n",
    "    ax.tick_params(axis='both', which='major', labelsize=14)\n",
    "    \n",
    "    return ax"
   ]
  },
  {
   "cell_type": "code",
   "execution_count": 4,
   "metadata": {
    "collapsed": false
   },
   "outputs": [
    {
     "data": {
      "text/plain": [
       "[<matplotlib.lines.Line2D at 0x11b0b0710>]"
      ]
     },
     "execution_count": 4,
     "metadata": {},
     "output_type": "execute_result"
    },
    {
     "data": {
      "image/png": "[encoded data removed]",
      "text/plain": [
       "<matplotlib.figure.Figure at 0x11afa6f98>"
      ]
     },
     "metadata": {},
     "output_type": "display_data"
    }
   ],
   "source": [
    "fig = plt.figure(figsize=(6, 6))\n",
    "\n",
    "ax = cartesian_plot(xlim=(-4, 4), ylim=(-3, 3), pimarks=True)\n",
    "x = np.linspace(-3*np.pi, 3*np.pi, 100)\n",
    "y = np.sin(x)\n",
    "ax.plot(x, y)\n",
    "ax.plot(x, x)\n",
    "ax.plot(x, x**2)\n"
   ]
  },
  {
   "cell_type": "code",
   "execution_count": null,
   "metadata": {
    "collapsed": true
   },
   "outputs": [],
   "source": []
  }
 ],
 "metadata": {
  "kernelspec": {
   "display_name": "Python 3",
   "language": "python",
   "name": "python3"
  },
  "language_info": {
   "codemirror_mode": {
    "name": "ipython",
    "version": 3
   },
   "file_extension": ".py",
   "mimetype": "text/x-python",
   "name": "python",
   "nbconvert_exporter": "python",
   "pygments_lexer": "ipython3",
   "version": "3.6.1"
  }
 },
 "nbformat": 4,
 "nbformat_minor": 2
}
